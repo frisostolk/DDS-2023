{
 "cells": [
  {
   "cell_type": "code",
   "execution_count": 1,
   "metadata": {},
   "outputs": [
    {
     "name": "stdout",
     "output_type": "stream",
     "text": [
      "Dash is running on http://127.0.0.1:8053/\n",
      "\n",
      " * Serving Flask app '__main__'\n",
      " * Debug mode: on\n"
     ]
    },
    {
     "ename": "SystemExit",
     "evalue": "1",
     "output_type": "error",
     "traceback": [
      "An exception has occurred, use %tb to see the full traceback.\n",
      "\u001B[1;31mSystemExit\u001B[0m\u001B[1;31m:\u001B[0m 1\n"
     ]
    },
    {
     "name": "stderr",
     "output_type": "stream",
     "text": [
      "c:\\Users\\Janus\\anaconda3\\Lib\\site-packages\\IPython\\core\\interactiveshell.py:3534: UserWarning: To exit: use 'exit', 'quit', or Ctrl-D.\n",
      "  warn(\"To exit: use 'exit', 'quit', or Ctrl-D.\", stacklevel=1)\n"
     ]
    }
   ],
   "source": [
    "import dash\n",
    "from dash import dcc, html\n",
    "from dash.dependencies import Input, Output\n",
    "import plotly.graph_objs as go\n",
    "from plotly.subplots import make_subplots\n",
    "import pandas as pd\n",
    "\n",
    "# dataset\n",
    "data = pd.read_csv('../data/weather/weather.csv')\n",
    "\n",
    "# the list of unique countries\n",
    "countries = data['country'].unique()\n",
    "\n",
    "# create a dash app in python\n",
    "app = dash.Dash(__name__)\n",
    "\n",
    "app.layout = html.Div([\n",
    "    html.H1(\"Weather Data\"),\n",
    "    html.Label(\"Select a country:\"),\n",
    "    dcc.Dropdown(\n",
    "        id='country-dropdown',\n",
    "        options=[{'label': country, 'value': country} for country in countries],\n",
    "        value='Finland'\n",
    "    ),\n",
    "    html.Label(\"Select a date range:\"),\n",
    "    dcc.DatePickerRange(\n",
    "        id='date-range-picker',\n",
    "        start_date='2016-01-01',\n",
    "        end_date='2020-12-31'\n",
    "    ),\n",
    "    dcc.Checklist(\n",
    "        id='weather-data-selection',\n",
    "        options=[\n",
    "            {'label': 'Temperature', 'value': 'temp_mean'},\n",
    "            {'label': 'Rainfall', 'value': 'rain'},\n",
    "            {'label': 'Snowfall', 'value': 'snow'}\n",
    "        ],\n",
    "        value=['temp_mean', 'rain', 'snow']\n",
    "    ),\n",
    "    dcc.Graph(id='weather-plot'),\n",
    "    html.Div(id='statistics')  # container for statistics\n",
    "])\n",
    "\n",
    "@app.callback(\n",
    "    [Output('weather-plot', 'figure'),\n",
    "     Output('statistics', 'children')],\n",
    "    [Input('country-dropdown', 'value'),\n",
    "     Input('date-range-picker', 'start_date'),\n",
    "     Input('date-range-picker', 'end_date'),\n",
    "     Input('weather-data-selection', 'value')]\n",
    ")\n",
    "def update_plot_and_statistics(selected_country, start_date, end_date, selected_data):\n",
    "    # filter the data for the selected country and date range\n",
    "    filtered_data = data[(data['country'] == selected_country) & (data['date'] >= start_date) & (data['date'] <= end_date)]\n",
    "\n",
    "    fig = make_subplots(specs=[[{\"secondary_y\": True}]])  # Create subplots with a secondary y-axis\n",
    "\n",
    "    for data_point in selected_data:\n",
    "        if data_point == 'temp_mean':\n",
    "            fig.add_trace(go.Scatter(x=filtered_data['date'], y=filtered_data[data_point], mode='lines', name='Temperature'))\n",
    "        else:\n",
    "            fig.add_trace(go.Scatter(x=filtered_data['date'], y=filtered_data[data_point], mode='lines', name=data_point), secondary_y=True)\n",
    "\n",
    "    fig.update_layout(\n",
    "        title=f'Weather Data in {selected_country}',\n",
    "        xaxis_title=\"Date\",\n",
    "        xaxis_rangeslider_visible=True\n",
    "    )\n",
    "\n",
    "    statistics_text = html.Div([\n",
    "        html.H2(\"Statistics\"),\n",
    "    ])\n",
    "    for data_point in selected_data:\n",
    "        mean_value = filtered_data[data_point].mean()\n",
    "        max_value = filtered_data[data_point].max()\n",
    "        min_value = filtered_data[data_point].min()\n",
    "        statistics_text.children.append(html.P(f\"Mean {data_point}: {mean_value:.2f}\"))\n",
    "        statistics_text.children.append(html.P(f\"Max {data_point}: {max_value:.2f}\"))\n",
    "        statistics_text.children.append(html.P(f\"Min {data_point}: {min_value:.2f}\"))\n",
    "\n",
    "    return fig, statistics_text\n",
    "\n",
    "if __name__ == '__main__':\n",
    "    app.run_server(debug=True, port=8053)\n"
   ]
  },
  {
   "cell_type": "code",
   "execution_count": null,
   "metadata": {},
   "outputs": [],
   "source": []
  }
 ],
 "metadata": {
  "kernelspec": {
   "display_name": "Python 3",
   "language": "python",
   "name": "python3"
  },
  "language_info": {
   "codemirror_mode": {
    "name": "ipython",
    "version": 3
   },
   "file_extension": ".py",
   "mimetype": "text/x-python",
   "name": "python",
   "nbconvert_exporter": "python",
   "pygments_lexer": "ipython3",
   "version": "3.11.5"
  }
 },
 "nbformat": 4,
 "nbformat_minor": 4
}
