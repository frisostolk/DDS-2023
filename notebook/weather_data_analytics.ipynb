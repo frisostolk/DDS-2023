{
 "cells": [
  {
   "cell_type": "code",
   "execution_count": 1,
   "metadata": {},
   "outputs": [
    {
     "data": {
      "text/html": [
       "\n",
       "        <iframe\n",
       "            width=\"100%\"\n",
       "            height=\"650\"\n",
       "            src=\"http://127.0.0.1:8053/\"\n",
       "            frameborder=\"0\"\n",
       "            allowfullscreen\n",
       "            \n",
       "        ></iframe>\n",
       "        "
      ],
      "text/plain": [
       "<IPython.lib.display.IFrame at 0x16305a750>"
      ]
     },
     "metadata": {},
     "output_type": "display_data"
    }
   ],
   "source": [
    "import dash\n",
    "from dash import dcc, html\n",
    "from dash.dependencies import Input, Output\n",
    "import plotly.express as px\n",
    "import pandas as pd\n",
    "\n",
    "# dataset\n",
    "data = pd.read_csv('../data/weather/weather.csv')\n",
    "\n",
    "# the list of unique capitals. Some capitals where duplicated\n",
    "capitals = data['capital'].unique()\n",
    "\n",
    "# create a dash app in python\n",
    "app = dash.Dash(__name__)\n",
    "\n",
    "app.layout = html.Div([\n",
    "    html.H1(\"Weather Data\"),\n",
    "    html.Label(\"Select a capital:\"),\n",
    "    dcc.Dropdown(\n",
    "        id='capital-dropdown',\n",
    "        options=[{'label': capital, 'value': capital} for capital in capitals],\n",
    "        value='Mariehamn'\n",
    "    ),\n",
    "    html.Label(\"Select a date range:\"),\n",
    "    dcc.DatePickerRange(\n",
    "        id='date-range-picker',\n",
    "        start_date='2016-01-01',\n",
    "        end_date='2020-12-31'\n",
    "    ),\n",
    "    dcc.Graph(id='temperature-plot'),\n",
    "    dcc.Graph(id='rain-plot'),\n",
    "    dcc.Graph(id='snow-plot'),\n",
    "    html.Div(id='statistics')  # container for statistics\n",
    "])\n",
    "\n",
    "@app.callback(\n",
    "    [Output('temperature-plot', 'figure'),\n",
    "     Output('rain-plot', 'figure'),\n",
    "     Output('snow-plot', 'figure'),\n",
    "     Output('statistics', 'children')],  # output for statistics\n",
    "    [Input('capital-dropdown', 'value'),\n",
    "     Input('date-range-picker', 'start_date'),\n",
    "     Input('date-range-picker', 'end_date')]\n",
    ")\n",
    "def update_plots(selected_capital, start_date, end_date):\n",
    "    # filter the data for the selected capital and date range\n",
    "    filtered_data = data[(data['capital'] == selected_capital) & (data['date'] >= start_date) & (data['date'] <= end_date)]\n",
    "\n",
    "    # create a temperature line plot\n",
    "    temperature_fig = px.line(filtered_data, x='date', y='temp_mean', title=f'Temperature in {selected_capital}')\n",
    "\n",
    "    # create a rainfall line plot\n",
    "    rain_fig = px.line(filtered_data, x='date', y='rain', title=f'Rainfall in {selected_capital}')\n",
    "\n",
    "    # create a snowfall line plot\n",
    "    snow_fig = px.line(filtered_data, x='date', y='snow', title=f'Snowfall in {selected_capital}')\n",
    "\n",
    "    # calculate statistics not needed but I was just interesting in these statistics\n",
    "    mean_temp = filtered_data['temp_mean'].mean()\n",
    "    max_temp = filtered_data['temp_mean'].max()\n",
    "    min_temp = filtered_data['temp_mean'].min()\n",
    "\n",
    "    mean_rain = filtered_data['rain'].mean()\n",
    "    max_rain = filtered_data['rain'].max()\n",
    "    min_rain = filtered_data['rain'].min()\n",
    "\n",
    "    mean_snow = filtered_data['snow'].mean()\n",
    "    max_snow = filtered_data['snow'].max()\n",
    "    min_snow = filtered_data['snow'].min()\n",
    "\n",
    "    # create statistics text\n",
    "    statistics_text = html.Div([\n",
    "        html.H2(\"Statistics\"),\n",
    "        html.P(f\"Mean Temperature: {mean_temp:.2f}°C\"),\n",
    "        html.P(f\"Max Temperature: {max_temp:.2f}°C\"),\n",
    "        html.P(f\"Min Temperature: {min_temp:.2f}°C\"),\n",
    "        html.P(f\"Mean Rainfall: {mean_rain:.2f} mm\"),\n",
    "        html.P(f\"Max Rainfall: {max_rain:.2f} mm\"),\n",
    "        html.P(f\"Min Rainfall: {min_rain:.2f} mm\"),\n",
    "        html.P(f\"Mean Snowfall: {mean_snow:.2f} mm\"),\n",
    "        html.P(f\"Max Snowfall: {max_snow:.2f} mm\"),\n",
    "        html.P(f\"Min Snowfall: {min_snow:.2f} mm\")\n",
    "    ])\n",
    "\n",
    "    return temperature_fig, rain_fig, snow_fig, statistics_text\n",
    "\n",
    "if __name__ == '__main__':\n",
    "    app.run_server(debug=True, port=8053) #port=8053 was needed to run the code on my laptop\n"
   ]
  },
  {
   "cell_type": "code",
   "execution_count": 2,
   "metadata": {},
   "outputs": [
    {
     "name": "stdout",
     "output_type": "stream",
     "text": [
      "Requirement already satisfied: dash in /Users/philipphinzmann/anaconda3/lib/python3.11/site-packages (2.14.0)\n",
      "Requirement already satisfied: Flask<2.3.0,>=1.0.4 in /Users/philipphinzmann/anaconda3/lib/python3.11/site-packages (from dash) (2.2.2)\n",
      "Requirement already satisfied: Werkzeug<2.3.0 in /Users/philipphinzmann/anaconda3/lib/python3.11/site-packages (from dash) (2.2.3)\n",
      "Requirement already satisfied: plotly>=5.0.0 in /Users/philipphinzmann/anaconda3/lib/python3.11/site-packages (from dash) (5.9.0)\n",
      "Requirement already satisfied: dash-html-components==2.0.0 in /Users/philipphinzmann/anaconda3/lib/python3.11/site-packages (from dash) (2.0.0)\n",
      "Requirement already satisfied: dash-core-components==2.0.0 in /Users/philipphinzmann/anaconda3/lib/python3.11/site-packages (from dash) (2.0.0)\n",
      "Requirement already satisfied: dash-table==5.0.0 in /Users/philipphinzmann/anaconda3/lib/python3.11/site-packages (from dash) (5.0.0)\n",
      "Requirement already satisfied: typing-extensions>=4.1.1 in /Users/philipphinzmann/anaconda3/lib/python3.11/site-packages (from dash) (4.7.1)\n",
      "Requirement already satisfied: requests in /Users/philipphinzmann/anaconda3/lib/python3.11/site-packages (from dash) (2.31.0)\n",
      "Requirement already satisfied: retrying in /Users/philipphinzmann/anaconda3/lib/python3.11/site-packages (from dash) (1.3.4)\n",
      "Requirement already satisfied: ansi2html in /Users/philipphinzmann/anaconda3/lib/python3.11/site-packages (from dash) (1.8.0)\n",
      "Requirement already satisfied: nest-asyncio in /Users/philipphinzmann/anaconda3/lib/python3.11/site-packages (from dash) (1.5.6)\n",
      "Requirement already satisfied: setuptools in /Users/philipphinzmann/anaconda3/lib/python3.11/site-packages (from dash) (68.0.0)\n",
      "Requirement already satisfied: importlib-metadata in /Users/philipphinzmann/anaconda3/lib/python3.11/site-packages (from dash) (6.0.0)\n",
      "Requirement already satisfied: Jinja2>=3.0 in /Users/philipphinzmann/anaconda3/lib/python3.11/site-packages (from Flask<2.3.0,>=1.0.4->dash) (3.1.2)\n",
      "Requirement already satisfied: itsdangerous>=2.0 in /Users/philipphinzmann/anaconda3/lib/python3.11/site-packages (from Flask<2.3.0,>=1.0.4->dash) (2.0.1)\n",
      "Requirement already satisfied: click>=8.0 in /Users/philipphinzmann/anaconda3/lib/python3.11/site-packages (from Flask<2.3.0,>=1.0.4->dash) (8.0.4)\n",
      "Requirement already satisfied: tenacity>=6.2.0 in /Users/philipphinzmann/anaconda3/lib/python3.11/site-packages (from plotly>=5.0.0->dash) (8.2.2)\n",
      "Requirement already satisfied: MarkupSafe>=2.1.1 in /Users/philipphinzmann/anaconda3/lib/python3.11/site-packages (from Werkzeug<2.3.0->dash) (2.1.1)\n",
      "Requirement already satisfied: zipp>=0.5 in /Users/philipphinzmann/anaconda3/lib/python3.11/site-packages (from importlib-metadata->dash) (3.11.0)\n",
      "Requirement already satisfied: charset-normalizer<4,>=2 in /Users/philipphinzmann/anaconda3/lib/python3.11/site-packages (from requests->dash) (2.0.4)\n",
      "Requirement already satisfied: idna<4,>=2.5 in /Users/philipphinzmann/anaconda3/lib/python3.11/site-packages (from requests->dash) (3.4)\n",
      "Requirement already satisfied: urllib3<3,>=1.21.1 in /Users/philipphinzmann/anaconda3/lib/python3.11/site-packages (from requests->dash) (1.26.16)\n",
      "Requirement already satisfied: certifi>=2017.4.17 in /Users/philipphinzmann/anaconda3/lib/python3.11/site-packages (from requests->dash) (2023.7.22)\n",
      "Requirement already satisfied: six>=1.7.0 in /Users/philipphinzmann/anaconda3/lib/python3.11/site-packages (from retrying->dash) (1.16.0)\n",
      "Note: you may need to restart the kernel to use updated packages.\n"
     ]
    }
   ],
   "source": [
    "pip install dash"
   ]
  },
  {
   "cell_type": "code",
   "execution_count": null,
   "metadata": {},
   "outputs": [],
   "source": []
  }
 ],
 "metadata": {
  "kernelspec": {
   "display_name": "Python 3 (ipykernel)",
   "language": "python",
   "name": "python3"
  },
  "language_info": {
   "codemirror_mode": {
    "name": "ipython",
    "version": 3
   },
   "file_extension": ".py",
   "mimetype": "text/x-python",
   "name": "python",
   "nbconvert_exporter": "python",
   "pygments_lexer": "ipython3",
   "version": "3.11.5"
  }
 },
 "nbformat": 4,
 "nbformat_minor": 4
}
