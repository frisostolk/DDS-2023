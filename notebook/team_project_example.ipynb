{
 "cells": [
  {
   "cell_type": "markdown",
   "id": "dab306e3",
   "metadata": {},
   "source": [
    "# INFOMDSS Team Project Examples"
   ]
  },
  {
   "cell_type": "markdown",
   "id": "ef17bea2-3e2e-465d-908c-c5dd3429e282",
   "metadata": {},
   "source": [
    "This Docker container may serve as a starting point for your course project.\n",
    "It includes a set of simple instructions to:\n",
    "<br>\n",
    " -> load a dataset (locally)\n",
    " <br>\n",
    " -> into a database\n",
    " <br>\n",
    " -> and be able to query data from the database\n",
    " <br>\n",
    " -> and make simple visualizations on the queried data"
   ]
  },
  {
   "cell_type": "code",
   "execution_count": 2,
   "id": "603f88b8",
   "metadata": {},
   "outputs": [],
   "source": [
    "# Imports\n",
    "\n",
    "from sqlalchemy import create_engine, text, inspect, Table\n",
    "import pandas as pd"
   ]
  },
  {
   "cell_type": "markdown",
   "id": "10bbf420-fda0-4f5e-9268-aa7a32db6ae7",
   "metadata": {},
   "source": [
    "## Load csv file\n",
    "\n",
    "Load the file called world_population.csv into a pandas dataframe. Make sure you parse the columns correctly."
   ]
  },
  {
   "cell_type": "code",
   "execution_count": 3,
   "id": "1d8f6be3-7b74-41eb-8b60-3b9aee1434d1",
   "metadata": {},
   "outputs": [
    {
     "name": "stdout",
     "output_type": "stream",
     "text": [
      "Folders in the parent directory:\n",
      ".git\n",
      "dashboard\n",
      "data\n",
      "notebook\n"
     ]
    }
   ],
   "source": [
    "import os\n",
    "\n",
    "# Get the current working directory\n",
    "current_directory = os.getcwd()\n",
    "\n",
    "# Get the parent directory (directory above the current directory)\n",
    "parent_directory = os.path.dirname(current_directory)\n",
    "\n",
    "# List all folders in the parent directory\n",
    "folders_in_parent_directory = [folder for folder in os.listdir(parent_directory) if os.path.isdir(os.path.join(parent_directory, folder))]\n",
    "\n",
    "# Print the list of folders\n",
    "print(\"Folders in the parent directory:\")\n",
    "for folder in folders_in_parent_directory:\n",
    "    print(folder)\n"
   ]
  },
  {
   "cell_type": "markdown",
   "id": "98c78458",
   "metadata": {},
   "source": [
    "##### Agricultural Production Data Import\n",
    "\n",
    "Cereals and Vegetables can be updated to range 2013 - 2022, 2023 is still mostly incomplete <br>\n",
    "<br>\n",
    "Cereals:    2014 - 2023, Harvested Production, Thousand tonnes <br>\n",
    "Vegetables: 2014 - 2023, Harvested Production, Thousand tonnes <br>\n",
    "Dairy:      2013 - 2022, Raw milk obtained, Thousand tonnes <br>\n",
    "Beef:       2013 - 2022, Slaughterings, Thousand tonnes <br>\n",
    "Mutton:     2013 - 2022, Slaughterings, Thousand tonnes <br>\n",
    "Pork:       2013 - 2022, Slaughterings, Thousand tonnes <br>\n",
    "Poultry:    2013 - 2022, Slaughterings, Thousand tonnes <br>\n"
   ]
  },
  {
   "cell_type": "code",
   "execution_count": 52,
   "id": "761fa497-e16f-4c1d-83e7-7cb8cfda5288",
   "metadata": {},
   "outputs": [
    {
     "name": "stderr",
     "output_type": "stream",
     "text": [
      "c:\\Users\\Janus\\anaconda3\\lib\\site-packages\\openpyxl\\styles\\stylesheet.py:226: UserWarning: Workbook contains no default style, apply openpyxl's default\n",
      "  warn(\"Workbook contains no default style, apply openpyxl's default\")\n"
     ]
    }
   ],
   "source": [
    "#Imports under each columns uses same structure\n",
    "#Data sets for cereals and vegetables\n",
    "agri_prod_cereals = pd.read_excel(\"../data/agri_production/cereals.xlsx\", \"Sheet 1\", header=8, index_col=0, usecols=\"A,B,D,F,H,J,L,N,P,R,T\", skiprows=[9, 10, 11, 12], skipfooter=7, na_values=\":\")\n",
    "agri_prod_vegetables = pd.read_excel(\"../data/agri_production/vegetables.xlsx\", \"Sheet 1\", header=8, index_col=0, usecols=\"A,B,D,F,H,J,L,N,P,R,T\", skiprows=[9, 10, 11, 12], skipfooter=7, na_values=\":\")\n",
    "#Data set for dairy\n",
    "agri_prod_dairy = pd.read_excel(\"../data/agri_production/dairy.xlsx\", \"Sheet 1\", header=8, index_col=0, usecols=\"A,B,D,F,H,J,L,N,P,R,T\", skiprows=[9, 10, 11, 12], skipfooter=9, na_values=\":\")\n",
    "#Data sets for meat production\n",
    "agri_prod_beef = pd.read_excel(\"../data/agri_production/beef.xlsx\", \"Sheet 1\", header=9, index_col=0, usecols=\"A,B,D,F,H,J,L,N,P,R,T\", skiprows=[10, 11, 12, 13, 14, 15], skipfooter=7, na_values=\":\")\n",
    "agri_prod_mutton = pd.read_excel(\"../data/agri_production/mutton.xlsx\", \"Sheet 1\", header=9, index_col=0, usecols=\"A,B,D,F,H,J,L,N,P,R,T\", skiprows=[10, 11, 12, 13, 14, 15], skipfooter=7, na_values=\":\")\n",
    "agri_prod_pork = pd.read_excel(\"../data/agri_production/pork.xlsx\", \"Sheet 1\", header=9, index_col=0, usecols=\"A,B,D,F,H,J,L,N,P,R,T\", skiprows=[10, 11, 12, 13, 14, 15], skipfooter=7, na_values=\":\")\n",
    "#Data set for poultry production\n",
    "agri_prod_poultry = pd.read_excel(\"../data/agri_production/poultry.xlsx\", \"Sheet 1\", header=9, index_col=0, usecols=\"A,B,D,F,H,J,L,N,P,R,T\", skiprows=[10, 11, 12, 13, 14, 15], skipfooter=9, na_values=\":\")\n",
    "\n",
    "\n",
    "#print(agri_prod_poultry)"
   ]
  },
  {
   "cell_type": "markdown",
   "id": "7056e273",
   "metadata": {},
   "source": [
    "##### Agricultural Area Data Import\n",
    "\n",
    "Data is only for 2020"
   ]
  },
  {
   "cell_type": "code",
   "execution_count": 51,
   "id": "0d71efa0",
   "metadata": {},
   "outputs": [
    {
     "name": "stdout",
     "output_type": "stream",
     "text": [
      "                 Farm area  Utilised agricultural area  \\\n",
      "CROPS (Labels)                                           \n",
      "Belgium            36000.0                     36000.0   \n",
      "Bulgaria          132740.0                    132740.0   \n",
      "Czechia            28910.0                     28910.0   \n",
      "Denmark            37090.0                     37090.0   \n",
      "Germany           262780.0                    262780.0   \n",
      "Estonia            11370.0                     11370.0   \n",
      "Ireland           130220.0                    130220.0   \n",
      "Greece            530750.0                    530750.0   \n",
      "Spain             914870.0                    914870.0   \n",
      "France            393030.0                    393030.0   \n",
      "Croatia           143930.0                    143930.0   \n",
      "Italy            1133020.0                   1133020.0   \n",
      "Cyprus             34050.0                     34050.0   \n",
      "Latvia             68980.0                     68980.0   \n",
      "Lithuania         132080.0                    132080.0   \n",
      "Luxembourg          1880.0                      1880.0   \n",
      "Hungary           232060.0                    232060.0   \n",
      "Malta               7650.0                      7650.0   \n",
      "Netherlands        52640.0                     52640.0   \n",
      "Austria           110780.0                    110780.0   \n",
      "Poland           1302330.0                   1302330.0   \n",
      "Portugal          290230.0                    290230.0   \n",
      "Romania          2887070.0                   2887070.0   \n",
      "Slovenia           72470.0                     72470.0   \n",
      "Slovakia           19630.0                     19630.0   \n",
      "Finland            45630.0                     45630.0   \n",
      "Sweden             58790.0                     58790.0   \n",
      "Norway                 NaN                         NaN   \n",
      "United Kingdom         NaN                         NaN   \n",
      "North Macedonia        NaN                         NaN   \n",
      "\n",
      "                 Fully converted and under conversion to organic farming utilised agricultural area (excluding kitchen gardens)  \\\n",
      "CROPS (Labels)                                                                                                                    \n",
      "Belgium                                                     2090.0                                                                \n",
      "Bulgaria                                                    4000.0                                                                \n",
      "Czechia                                                     4530.0                                                                \n",
      "Denmark                                                     3670.0                                                                \n",
      "Germany                                                    26090.0                                                                \n",
      "Estonia                                                     1940.0                                                                \n",
      "Ireland                                                     1670.0                                                                \n",
      "Greece                                                     12590.0                                                                \n",
      "Spain                                                      42330.0                                                                \n",
      "France                                                     46360.0                                                                \n",
      "Croatia                                                     5300.0                                                                \n",
      "Italy                                                      83580.0                                                                \n",
      "Cyprus                                                      1250.0                                                                \n",
      "Latvia                                                      3750.0                                                                \n",
      "Lithuania                                                   2200.0                                                                \n",
      "Luxembourg                                                   110.0                                                                \n",
      "Hungary                                                     3900.0                                                                \n",
      "Malta                                                         20.0                                                                \n",
      "Netherlands                                                 1690.0                                                                \n",
      "Austria                                                    24760.0                                                                \n",
      "Poland                                                     18340.0                                                                \n",
      "Portugal                                                    3840.0                                                                \n",
      "Romania                                                    15930.0                                                                \n",
      "Slovenia                                                    3610.0                                                                \n",
      "Slovakia                                                     580.0                                                                \n",
      "Finland                                                     4700.0                                                                \n",
      "Sweden                                                      5340.0                                                                \n",
      "Norway                                                         NaN                                                                \n",
      "United Kingdom                                                 NaN                                                                \n",
      "North Macedonia                                                NaN                                                                \n",
      "\n",
      "                 Arable land  Permanent grassland - outdoor  Permanent crops  \\\n",
      "CROPS (Labels)                                                                 \n",
      "Belgium              31470.0                        29710.0           2260.0   \n",
      "Bulgaria             77410.0                        71190.0          36420.0   \n",
      "Czechia              17430.0                        19020.0           6530.0   \n",
      "Denmark              30210.0                        27170.0           3770.0   \n",
      "Germany             193590.0                       219880.0          28000.0   \n",
      "Estonia               7680.0                         9500.0           1130.0   \n",
      "Ireland              57100.0                       112320.0           1040.0   \n",
      "Greece              224190.0                        48220.0         413850.0   \n",
      "Spain               426810.0                       194330.0         636870.0   \n",
      "France              289040.0                       269540.0         114330.0   \n",
      "Croatia             104480.0                        66200.0          69980.0   \n",
      "Italy               721620.0                       284790.0         800390.0   \n",
      "Cyprus               16390.0                          300.0          30620.0   \n",
      "Latvia               49800.0                        53500.0           6500.0   \n",
      "Lithuania           120270.0                        97440.0          57860.0   \n",
      "Luxembourg            1370.0                         1540.0            360.0   \n",
      "Hungary             154710.0                        49720.0          61480.0   \n",
      "Malta                 6880.0                            0.0           2080.0   \n",
      "Netherlands          39970.0                        36810.0           5480.0   \n",
      "Austria              60450.0                        90780.0          18420.0   \n",
      "Poland             1114110.0                       855060.0         162140.0   \n",
      "Portugal            171890.0                        91030.0         219960.0   \n",
      "Romania            2014270.0                      1150390.0         784440.0   \n",
      "Slovenia             50570.0                        58600.0          38420.0   \n",
      "Slovakia             12650.0                         8770.0           3000.0   \n",
      "Finland              45270.0                         5290.0           1300.0   \n",
      "Sweden               56080.0                        33430.0           1150.0   \n",
      "Norway                   NaN                            NaN              NaN   \n",
      "United Kingdom           NaN                            NaN              NaN   \n",
      "North Macedonia          NaN                            NaN              NaN   \n",
      "\n",
      "                 Kitchen gardens - outdoor  Cultivated mushrooms  \\\n",
      "CROPS (Labels)                                                     \n",
      "Belgium                                0.0                  10.0   \n",
      "Bulgaria                           36190.0                 180.0   \n",
      "Czechia                              440.0                  50.0   \n",
      "Denmark                                0.0                   0.0   \n",
      "Germany                            10730.0                  60.0   \n",
      "Estonia                             3790.0                   0.0   \n",
      "Ireland                                0.0                  30.0   \n",
      "Greece                            137640.0                  60.0   \n",
      "Spain                             101790.0                 540.0   \n",
      "France                              7540.0                 150.0   \n",
      "Croatia                            64590.0                  50.0   \n",
      "Italy                             161280.0                 660.0   \n",
      "Cyprus                              2460.0                   NaN   \n",
      "Latvia                             10020.0                   NaN   \n",
      "Lithuania                              0.0                  80.0   \n",
      "Luxembourg                           190.0                   0.0   \n",
      "Hungary                            57480.0                 690.0   \n",
      "Malta                               4210.0                   NaN   \n",
      "Netherlands                            0.0                 100.0   \n",
      "Austria                            22650.0                  70.0   \n",
      "Poland                            195180.0                1840.0   \n",
      "Portugal                          156890.0                 280.0   \n",
      "Romania                          1459580.0                  30.0   \n",
      "Slovenia                           34950.0                   0.0   \n",
      "Slovakia                            3140.0                   NaN   \n",
      "Finland                                0.0                   NaN   \n",
      "Sweden                                 0.0                   0.0   \n",
      "Norway                                 NaN                   NaN   \n",
      "United Kingdom                         NaN                   NaN   \n",
      "North Macedonia                        NaN                   NaN   \n",
      "\n",
      "                 Unutilised agricultural area  Wooded areas  \\\n",
      "CROPS (Labels)                                                \n",
      "Belgium                                1840.0        1180.0   \n",
      "Bulgaria                               2360.0         790.0   \n",
      "Czechia                                 550.0        2570.0   \n",
      "Denmark                               30260.0       15040.0   \n",
      "Germany                               12760.0      139570.0   \n",
      "Estonia                                 330.0        8180.0   \n",
      "Ireland                               41170.0       17260.0   \n",
      "Greece                                34530.0        5110.0   \n",
      "Spain                                 12500.0      112930.0   \n",
      "France                               171880.0      103690.0   \n",
      "Croatia                               26740.0       55530.0   \n",
      "Italy                                191630.0      279030.0   \n",
      "Cyprus                                 9240.0         760.0   \n",
      "Latvia                                14940.0       40670.0   \n",
      "Lithuania                              5080.0       22520.0   \n",
      "Luxembourg                              260.0         890.0   \n",
      "Hungary                               10290.0       26810.0   \n",
      "Malta                                   890.0           0.0   \n",
      "Netherlands                            2330.0        2190.0   \n",
      "Austria                               26890.0       92900.0   \n",
      "Poland                               115890.0      549070.0   \n",
      "Portugal                              35950.0      130620.0   \n",
      "Romania                               76170.0      180530.0   \n",
      "Slovenia                              24360.0       54430.0   \n",
      "Slovakia                                310.0         360.0   \n",
      "Finland                                8440.0       40510.0   \n",
      "Sweden                                    0.0       40370.0   \n",
      "Norway                                    NaN           NaN   \n",
      "United Kingdom                            NaN           NaN   \n",
      "North Macedonia                           NaN           NaN   \n",
      "\n",
      "                 Other areas on the farms  \n",
      "CROPS (Labels)                             \n",
      "Belgium                           33160.0  \n",
      "Bulgaria                          96670.0  \n",
      "Czechia                            3780.0  \n",
      "Denmark                           17670.0  \n",
      "Germany                          197690.0  \n",
      "Estonia                           11370.0  \n",
      "Ireland                           41170.0  \n",
      "Greece                           118200.0  \n",
      "Spain                            220840.0  \n",
      "France                           290360.0  \n",
      "Croatia                          101710.0  \n",
      "Italy                            433190.0  \n",
      "Cyprus                             8420.0  \n",
      "Latvia                            54720.0  \n",
      "Lithuania                         87190.0  \n",
      "Luxembourg                          560.0  \n",
      "Hungary                          232060.0  \n",
      "Malta                              2900.0  \n",
      "Netherlands                       46820.0  \n",
      "Austria                           88680.0  \n",
      "Poland                          1161230.0  \n",
      "Portugal                         263720.0  \n",
      "Romania                         2128830.0  \n",
      "Slovenia                          72380.0  \n",
      "Slovakia                          13110.0  \n",
      "Finland                           40930.0  \n",
      "Sweden                             2240.0  \n",
      "Norway                                NaN  \n",
      "United Kingdom                        NaN  \n",
      "North Macedonia                       NaN  \n"
     ]
    },
    {
     "name": "stderr",
     "output_type": "stream",
     "text": [
      "c:\\Users\\Janus\\anaconda3\\lib\\site-packages\\openpyxl\\styles\\stylesheet.py:226: UserWarning: Workbook contains no default style, apply openpyxl's default\n",
      "  warn(\"Workbook contains no default style, apply openpyxl's default\")\n"
     ]
    }
   ],
   "source": [
    "agri_area_general = pd.read_excel(\"../data/agri_area/general_area_2020.xlsx\", \"Sheet 1\", header=11, index_col=0, usecols=\"A,B,D,F,H,J,L,N,P,R,T,V\", skiprows=[12], skipfooter=5, na_values=\":\")\n",
    "\n",
    "print(agri_area_general)"
   ]
  },
  {
   "cell_type": "markdown",
   "id": "e9fb34b1",
   "metadata": {},
   "source": [
    "##### Agricultural Nutrients Data Import\n",
    "\n",
    "Nitrogen:   2010 - 2019, Gross Balance Per Hectare <br>\n",
    "Phospohrus: 2010 - 2019, Gross Balance Per Hectare"
   ]
  },
  {
   "cell_type": "code",
   "execution_count": 54,
   "id": "381d80dd",
   "metadata": {},
   "outputs": [
    {
     "name": "stdout",
     "output_type": "stream",
     "text": [
      "                                           2010  2011  2012  2013  2014  2015  \\\n",
      "TIME                                                                            \n",
      "European Union - 27 countries (from 2020)   1.8   1.4   1.6   1.5   0.8   NaN   \n",
      "Belgium                                     5.0   5.0   6.0   6.0   5.0   5.0   \n",
      "Bulgaria                                   -5.0  -6.0  -4.0  -9.0  -6.0  -6.0   \n",
      "Czechia                                    -2.1  -3.3  -1.3  -2.7  -3.9  -1.3   \n",
      "Denmark                                     8.0   7.0   7.0   8.0   7.0   7.0   \n",
      "Germany                                    -1.4  -0.4  -2.6  -1.0  -3.7  -2.0   \n",
      "Estonia                                    -5.7  -4.5  -6.2   NaN   NaN   NaN   \n",
      "Ireland                                    17.9  17.5  18.1  20.5  20.5  20.9   \n",
      "Greece                                      2.0  -1.0  -1.0   2.0   0.0   0.0   \n",
      "Spain                                       3.2   2.4   4.5   2.9   3.8   3.9   \n",
      "France                                      1.2   2.5   0.2   1.6   0.5   0.9   \n",
      "Croatia                                     7.2   6.0   7.4   2.8   6.3   3.0   \n",
      "Italy                                      -1.0  -3.0  -2.0  -2.0  -1.0  -1.0   \n",
      "Cyprus                                     31.0  32.0  30.0  29.0  32.0  32.0   \n",
      "Latvia                                      2.0   2.0   1.0   3.0   2.0   2.0   \n",
      "Lithuania                                   6.0   5.0   7.0   2.0   1.0   1.0   \n",
      "Luxembourg                                  4.0   5.0   4.0   4.0   4.0   4.0   \n",
      "Hungary                                    -2.5  -3.2   0.0  -0.5  -2.7  -0.9   \n",
      "Malta                                      33.0  26.0  27.0  30.0  30.0  30.0   \n",
      "Netherlands                                11.6   6.6   3.2   4.5   1.2   3.9   \n",
      "Austria                                     0.9   0.1   1.2   2.6   1.0   1.5   \n",
      "Poland                                      5.1   5.7   3.0   3.2   0.3   2.1   \n",
      "Portugal                                    4.4   2.9   4.3   3.3   4.0   4.5   \n",
      "Romania                                    -1.0  -3.0   1.0  -2.0  -2.0  -0.7   \n",
      "Slovenia                                    2.9   2.8   4.2   5.9   1.3   2.0   \n",
      "Slovakia                                   -2.9  -5.9  -2.9  -4.3  -8.3  -4.8   \n",
      "Finland                                     4.9   3.7   3.7   3.9   3.8   4.0   \n",
      "Sweden                                     -0.1  -0.1  -0.4   0.1  -1.3  -1.6   \n",
      "Norway                                      9.0  11.0  10.0  12.0   9.0  10.0   \n",
      "Switzerland                                 2.9   1.9   2.9   4.0   2.5   3.8   \n",
      "United Kingdom                              6.0   6.0   6.0   7.0   5.0   5.0   \n",
      "\n",
      "                                            2016   2017  2018  2019  \n",
      "TIME                                                                 \n",
      "European Union - 27 countries (from 2020)    NaN    NaN   NaN   NaN  \n",
      "Belgium                                      NaN    NaN   NaN   NaN  \n",
      "Bulgaria                                    1.90   1.00   0.8  -5.4  \n",
      "Czechia                                    -3.20  -0.10   0.9   0.0  \n",
      "Denmark                                      NaN    NaN   NaN   NaN  \n",
      "Germany                                    -2.85  -5.17  -1.9  -4.8  \n",
      "Estonia                                      NaN    NaN   NaN   NaN  \n",
      "Ireland                                    21.70  23.10   NaN   NaN  \n",
      "Greece                                       NaN    NaN   NaN   NaN  \n",
      "Spain                                       6.90   8.30   NaN   NaN  \n",
      "France                                      2.90   0.40   2.1   1.1  \n",
      "Croatia                                    -4.80   3.50   2.4   1.6  \n",
      "Italy                                        NaN    NaN   NaN   NaN  \n",
      "Cyprus                                       NaN    NaN   NaN   NaN  \n",
      "Latvia                                      0.70   1.40   3.7   1.0  \n",
      "Lithuania                                    NaN    NaN   0.4  -1.3  \n",
      "Luxembourg                                   NaN    NaN   NaN   NaN  \n",
      "Hungary                                    -2.80   0.00   NaN   NaN  \n",
      "Malta                                        NaN    NaN   NaN   NaN  \n",
      "Netherlands                                 4.70   2.20   6.9   4.0  \n",
      "Austria                                    -0.20   2.70   2.6   1.3  \n",
      "Poland                                      0.80   1.30   4.0   3.6  \n",
      "Portugal                                    5.60   4.70   5.7   5.8  \n",
      "Romania                                    -3.10  -5.60  -7.5  -6.1  \n",
      "Slovenia                                    1.60   5.10   1.9   0.7  \n",
      "Slovakia                                   -7.30  -6.10  -3.4  -3.1  \n",
      "Finland                                     3.60   5.60   5.8   3.3  \n",
      "Sweden                                     -0.20  -0.70   4.1  -1.5  \n",
      "Norway                                     11.00    NaN   NaN   NaN  \n",
      "Switzerland                                 3.80   2.40   4.0   3.5  \n",
      "United Kingdom                              6.00   5.80   NaN   NaN  \n"
     ]
    },
    {
     "name": "stderr",
     "output_type": "stream",
     "text": [
      "c:\\Users\\Janus\\anaconda3\\lib\\site-packages\\openpyxl\\styles\\stylesheet.py:226: UserWarning: Workbook contains no default style, apply openpyxl's default\n",
      "  warn(\"Workbook contains no default style, apply openpyxl's default\")\n"
     ]
    }
   ],
   "source": [
    "agri_nut_nitrogen = pd.read_excel(\"../data/agri_nutrients/nitrogen_per_hectare.xlsx\", \"Sheet 1\", header=8, index_col=0, usecols=\"A,B,D,F,H,J,L,N,P,R,T\", skiprows=[9], skipfooter=5, na_values=\":\")\n",
    "agri_nut_phosphorus = pd.read_excel(\"../data/agri_nutrients/phosphorus_per_hectare.xlsx\", \"Sheet 1\", header=8, index_col=0, usecols=\"A,B,D,F,H,J,L,N,P,R,T\", skiprows=[9], skipfooter=5, na_values=\":\")\n",
    "\n",
    "print(agri_nut_phosphorus)"
   ]
  },
  {
   "cell_type": "markdown",
   "id": "ec8b5d85",
   "metadata": {},
   "source": [
    "##### Agricultural Greenhouse Emissions Data Import\n",
    "\n",
    "Greenhouse Emssions:  2012 - 2021, Thousand Tonnes"
   ]
  },
  {
   "cell_type": "code",
   "execution_count": 55,
   "id": "9af979f0",
   "metadata": {},
   "outputs": [
    {
     "name": "stdout",
     "output_type": "stream",
     "text": [
      "                 2012      2013      2014      2015      2016      2017  \\\n",
      "TIME                                                                      \n",
      "Belgium       9579.49   9579.71   9708.20   9715.18   9601.71   9653.14   \n",
      "Bulgaria      4985.00   5432.20   5852.05   5890.94   6198.09   6165.52   \n",
      "Czechia       7572.90   7484.56   7559.94   8164.50   8405.22   8191.44   \n",
      "Denmark      12061.25  12056.28  12192.66  12029.43  12235.95  12282.34   \n",
      "Germany      60052.38  60852.00  62107.72  61967.23  61546.13  60866.86   \n",
      "Estonia       1409.72   1451.60   1498.19   1459.91   1426.11   1478.63   \n",
      "Ireland      19706.42  20504.14  20056.24  20620.34  21161.49  21897.67   \n",
      "Greece        8839.48   8754.65   8347.14   8165.96   8157.39   8189.34   \n",
      "Spain        31623.81  31338.11  32621.16  33236.25  33305.31  34084.83   \n",
      "France       71600.63  70853.05  72410.57  72143.08  71453.49  71482.86   \n",
      "Croatia       3061.41   2800.88   2736.18   2787.20   2745.03   2843.99   \n",
      "Italy        33199.96  32427.12  32144.17  32101.67  33011.80  32580.81   \n",
      "Cyprus         555.21    513.01    499.08    505.95    529.82    544.67   \n",
      "Latvia        1962.72   2025.70   2105.34   2151.47   2163.27   2176.66   \n",
      "Lithuania     4287.37   4254.53   4459.44   4537.64   4444.56   4400.01   \n",
      "Luxembourg     635.83    648.82    662.81    672.49    694.07    699.07   \n",
      "Hungary       5840.89   6206.23   6441.54   6654.02   6945.94   6949.64   \n",
      "Malta           84.23     84.47     84.50     84.66     85.57     84.79   \n",
      "Netherlands  17704.18  18204.71  18370.13  18998.12  19262.57  19270.67   \n",
      "Austria       7212.42   7211.17   7346.22   7376.00   7488.82   7444.13   \n",
      "Poland       31826.63  32464.68  32364.07  31705.48  32067.10  33359.59   \n",
      "Portugal      6793.96   6757.30   6890.14   6911.36   6954.21   7067.60   \n",
      "Romania      17933.31  18508.49  18688.57  18925.02  18829.94  18964.97   \n",
      "Slovenia      1724.58   1709.19   1756.01   1799.50   1822.17   1787.84   \n",
      "Slovakia      2429.13   2565.20   2698.26   2516.87   2636.22   2492.06   \n",
      "Finland       6238.74   6350.39   6409.25   6392.50   6438.98   6346.67   \n",
      "Sweden        6613.48   6672.86   6753.67   6767.50   6739.91   6856.93   \n",
      "Iceland        640.72    624.97    668.28    659.23    658.73    659.58   \n",
      "Norway        4471.45   4522.96   4594.14   4662.19   4719.28   4695.15   \n",
      "Switzerland   6157.61   6079.41   6214.31   6112.72   6097.53   6059.64   \n",
      "\n",
      "                 2018      2019      2020      2021  \n",
      "TIME                                                 \n",
      "Belgium       9533.09   9559.92   9516.10   9414.19  \n",
      "Bulgaria      6024.91   6004.04   5978.19   6106.34  \n",
      "Czechia       7989.79   7933.44   7717.83   7844.54  \n",
      "Denmark      12146.28  12079.11  12388.78  12074.39  \n",
      "Germany      59265.36  58525.01  57551.88  56332.89  \n",
      "Estonia       1480.33   1559.55   1569.74   1583.94  \n",
      "Ireland      22719.21  21789.78  22133.28  22953.53  \n",
      "Greece        8121.04   8100.53   8153.85   8045.99  \n",
      "Spain        33971.41  33898.36  34674.95  34369.39  \n",
      "France       70524.84  68833.05  67363.50  66213.86  \n",
      "Croatia       2730.74   2721.24   2700.72   2700.94  \n",
      "Italy        32306.49  32190.29  33426.51  32717.22  \n",
      "Cyprus         550.14    565.46    603.16    626.20  \n",
      "Latvia        2096.41   2198.36   2250.41   2252.96  \n",
      "Lithuania     4265.55   4286.97   4507.75   4327.72  \n",
      "Luxembourg     701.26    690.87    702.97    697.35  \n",
      "Hungary       7000.34   6989.33   7169.75   7201.98  \n",
      "Malta           83.57     86.41     89.27     87.71  \n",
      "Netherlands  18671.48  18446.62  18370.39  17974.70  \n",
      "Austria       7330.20   7221.21   7197.46   7221.16  \n",
      "Poland       33688.37  32595.16  34051.67  34035.26  \n",
      "Portugal      7148.64   7248.62   7271.89   7258.18  \n",
      "Romania      19525.42  19243.10  19010.69  19169.30  \n",
      "Slovenia      1787.58   1807.85   1812.99   1813.47  \n",
      "Slovakia      2512.48   2529.01   2531.75   2430.57  \n",
      "Finland       6296.93   6445.87   6414.59   6303.11  \n",
      "Sweden        6672.22   6698.81   6796.75   6673.59  \n",
      "Iceland        637.77    621.47    617.01    620.07  \n",
      "Norway        4673.39   4630.87   4648.56   4701.71  \n",
      "Switzerland   6000.13   5895.44   5858.68   5897.73  \n"
     ]
    },
    {
     "name": "stderr",
     "output_type": "stream",
     "text": [
      "c:\\Users\\Janus\\anaconda3\\lib\\site-packages\\openpyxl\\styles\\stylesheet.py:226: UserWarning: Workbook contains no default style, apply openpyxl's default\n",
      "  warn(\"Workbook contains no default style, apply openpyxl's default\")\n"
     ]
    }
   ],
   "source": [
    "agri_greenhouse_emissions = pd.read_excel(\"../data/agri_emissions/greenhouse.xlsx\", \"Sheet 1\", header=9, index_col=0, usecols=\"A,B,D,F,H,J,L,N,P,R,T\", skiprows=[10, 11], skipfooter=3, na_values=\":\")\n",
    "\n",
    "print(agri_greenhouse_emissions)"
   ]
  },
  {
   "cell_type": "markdown",
   "id": "06278d87-387b-4607-89ab-2d78eeafc1be",
   "metadata": {},
   "source": [
    "## Store data into database\n",
    "Save the contents in the world_population file to the a table called population in the database. "
   ]
  },
  {
   "cell_type": "code",
   "execution_count": 4,
   "id": "b086dcd4-80e9-4874-9c77-1887b8313716",
   "metadata": {},
   "outputs": [
    {
     "data": {
      "text/plain": [
       "143"
      ]
     },
     "execution_count": 4,
     "metadata": {},
     "output_type": "execute_result"
    }
   ],
   "source": [
    "# Create a SQLAlchemy engine to connect to the PostgreSQL database\n",
    "engine = create_engine(\"postgresql://student:infomdss@db_dashboard:5432/dashboard\")\n",
    "\n",
    "# Establish a connection to the database using the engine\n",
    "# The 'with' statement ensures that the connection is properly closed when done\n",
    "with engine.connect() as conn:\n",
    "    # Execute an SQL command to drop the 'population' table if it exists\n",
    "    # The text() function allows you to execute raw SQL statements\n",
    "    result = conn.execute(text(\"DROP TABLE IF EXISTS population CASCADE;\"))\n",
    "\n",
    "# Assuming you have a DataFrame named 'world_population_df', the following line\n",
    "# writes the data from the DataFrame to a new 'population' table in the database\n",
    "# If the 'population' table already exists, it will be replaced with the new data\n",
    "# This prints the number of rows entered in the database table\n",
    "world_population_df.to_sql(\"population\", engine, if_exists=\"replace\", index=True)"
   ]
  },
  {
   "cell_type": "markdown",
   "id": "c72e7287-6685-45f2-a7cd-52d367350439",
   "metadata": {},
   "source": [
    "## Fetch data from database\n",
    "Read the table **population** from the database in a dataframe. Make sure the index column is the index of the dataframe."
   ]
  },
  {
   "cell_type": "code",
   "execution_count": 5,
   "id": "722f1b18-5759-4267-83e1-b3fe2fa850e1",
   "metadata": {},
   "outputs": [
    {
     "name": "stdout",
     "output_type": "stream",
     "text": [
      "            Region          Type  Year  TotalPopulation YearIncrease\n",
      "index                                                               \n",
      "0            WORLD         World  1950          2477675         0,00\n",
      "1            WORLD         World  1951          2520970         1,75\n",
      "2            WORLD         World  1952          2565291         1,76\n",
      "3            WORLD         World  1953          2615251         1,95\n",
      "4            WORLD         World  1954          2665307         1,91\n",
      "...            ...           ...   ...              ...          ...\n",
      "138    Netherlands  Country/Area  2016            17082         0,48\n",
      "139    Netherlands  Country/Area  2017            17167         0,50\n",
      "140    Netherlands  Country/Area  2018            17248         0,47\n",
      "141    Netherlands  Country/Area  2019            17324         0,44\n",
      "142    Netherlands  Country/Area  2020            17402         0,45\n",
      "\n",
      "[143 rows x 5 columns]\n"
     ]
    }
   ],
   "source": [
    "# Read data from the SQL table named 'population' using pandas\n",
    "# 'pd.read_sql_table' is a pandas function that reads data from an SQL table\n",
    "# 'db_conn' is the database connection object previously established\n",
    "population_table = pd.read_sql_table('population', engine, index_col='index')\n",
    "\n",
    "# This line prints the entire DataFrame to the output\n",
    "print(population_table)\n",
    "\n",
    "# Note that we transformed the data from a .csv file to a pandas dataframe\n",
    "# Then loaded the dataframe into the database table\n",
    "# And now we have pulled the data from the database and put it in a dataframe again\n",
    "# This is an example of how you might store and fetch data to and from your database for your dashboard"
   ]
  },
  {
   "cell_type": "markdown",
   "id": "13b5cde8-4af9-4e0c-b727-3c9770e72660",
   "metadata": {},
   "source": [
    "## Plot data\n",
    "We can meaningfully plot the data from the database in many different ways to give users of the dashboard a visual impression of the data. \n",
    "<br>\n",
    "For the example data on the world population, we plot a line chart as an example. "
   ]
  },
  {
   "cell_type": "code",
   "execution_count": 6,
   "id": "a5e7133a-bfc3-41c2-b202-82bbf0202289",
   "metadata": {},
   "outputs": [
    {
     "data": {
      "image/png": "[encoded data removed]",
      "text/plain": [
       "<Figure size 800x600 with 1 Axes>"
      ]
     },
     "metadata": {},
     "output_type": "display_data"
    }
   ],
   "source": [
    "import matplotlib.pyplot as plt\n",
    "\n",
    "# The data is not yet ready to plot charts with and thus needs to be processed first.\n",
    "# Convert 'Total Population' to numeric (remove the whitespaces and convert to an integer)\n",
    "population_table['TotalPopulation'] = population_table['TotalPopulation'].astype(int)\n",
    "\n",
    "# Filter data for 'WORLD' as for this chart we are only interested in the total world population\n",
    "world_data = population_table[population_table['Region'] == 'WORLD']\n",
    "\n",
    "fig, ax = plt.subplots(figsize=(8, 6))\n",
    "ax.plot(world_data['Year'], world_data['TotalPopulation'], label='World Population')  # Add label for the legend\n",
    "\n",
    "# Add a legend\n",
    "ax.legend()\n",
    "\n",
    "# Add a plot title\n",
    "ax.set_title('World Population Over Time')\n",
    "\n",
    "plt.show()  # Show the plot\n"
   ]
  },
  {
   "cell_type": "code",
   "execution_count": null,
   "id": "43d0b9b8-9197-4611-8020-3526d82fe788",
   "metadata": {},
   "outputs": [],
   "source": []
  }
 ],
 "metadata": {
  "kernelspec": {
   "display_name": "Python 3 (ipykernel)",
   "language": "python",
   "name": "python3"
  },
  "language_info": {
   "codemirror_mode": {
    "name": "ipython",
    "version": 3
   },
   "file_extension": ".py",
   "mimetype": "text/x-python",
   "name": "python",
   "nbconvert_exporter": "python",
   "pygments_lexer": "ipython3",
   "version": "3.9.7"
  }
 },
 "nbformat": 4,
 "nbformat_minor": 5
}
